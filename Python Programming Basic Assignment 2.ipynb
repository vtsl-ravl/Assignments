{
 "cells": [
  {
   "cell_type": "code",
   "execution_count": null,
   "id": "e22f5d55",
   "metadata": {},
   "outputs": [],
   "source": [
    "##1. Write a Python program to convert kilometers to miles?\n",
    "\n",
    "kms = float(input('Input Kilometers Here :- '  ,  ))\n",
    "miles = kms * 0.621371\n",
    "print (miles, 'miles')"
   ]
  },
  {
   "cell_type": "code",
   "execution_count": null,
   "id": "c3d88af9",
   "metadata": {},
   "outputs": [],
   "source": [
    "##2. Write a Python program to convert Celsius to Fahrenheit?\n",
    "\n",
    "cel = float(input('Input temperature in Celsius :- '))\n",
    "Frh = (cel * 9/5) + 32\n",
    "print (Frh)\n"
   ]
  },
  {
   "cell_type": "code",
   "execution_count": null,
   "id": "26ce10fa",
   "metadata": {},
   "outputs": [],
   "source": [
    "##3. Write a Python program to display calendar?\n",
    "\n",
    "import calendar\n",
    "\n",
    "mm = int(input('month'))\n",
    "yy = int(input('Year'))\n",
    "\n",
    "print(calendar.month(yy,mm))"
   ]
  },
  {
   "cell_type": "code",
   "execution_count": null,
   "id": "ffed428f",
   "metadata": {},
   "outputs": [],
   "source": [
    "##4. Write a Python program to solve quadratic equation?\n",
    "\n",
    "a = float(input('enter coefficient of x**2  '))\n",
    "b = float(input('enter coefficient of x  '))\n",
    "c = float(input('enter constant  '))\n",
    "\n",
    "d = (b**2 - (4*a*c))**(1/2)\n",
    "\n",
    "e = (-b + d)/2*a\n",
    "f = (-b -d)/2*a\n",
    "\n",
    "print('2 factors for the quadratic equation are ', e, ' and ', f )"
   ]
  },
  {
   "cell_type": "code",
   "execution_count": null,
   "id": "3bb4fd92",
   "metadata": {},
   "outputs": [],
   "source": [
    "##5. Write a Python program to swap two variables without temp variable?\n",
    "\n",
    "a = input('a = ')\n",
    "b = input('b = ')\n",
    "\n",
    "a,b = b,a\n",
    "\n",
    "print('After swap a is ', a, 'and b is ', b)"
   ]
  },
  {
   "cell_type": "code",
   "execution_count": null,
   "id": "72b7e508",
   "metadata": {},
   "outputs": [],
   "source": []
  },
  {
   "cell_type": "code",
   "execution_count": null,
   "id": "750b593f",
   "metadata": {},
   "outputs": [],
   "source": []
  },
  {
   "cell_type": "code",
   "execution_count": null,
   "id": "f967f207",
   "metadata": {},
   "outputs": [],
   "source": []
  },
  {
   "cell_type": "code",
   "execution_count": null,
   "id": "331ebdd2",
   "metadata": {},
   "outputs": [],
   "source": []
  },
  {
   "cell_type": "code",
   "execution_count": null,
   "id": "71d55768",
   "metadata": {},
   "outputs": [],
   "source": []
  },
  {
   "cell_type": "code",
   "execution_count": null,
   "id": "75618048",
   "metadata": {},
   "outputs": [],
   "source": []
  },
  {
   "cell_type": "code",
   "execution_count": null,
   "id": "86c2b30a",
   "metadata": {},
   "outputs": [],
   "source": []
  },
  {
   "cell_type": "code",
   "execution_count": null,
   "id": "cdfd8b8a",
   "metadata": {},
   "outputs": [],
   "source": []
  },
  {
   "cell_type": "code",
   "execution_count": null,
   "id": "d3d441dc",
   "metadata": {},
   "outputs": [],
   "source": []
  },
  {
   "cell_type": "code",
   "execution_count": null,
   "id": "bd8bc1ad",
   "metadata": {},
   "outputs": [],
   "source": []
  },
  {
   "cell_type": "code",
   "execution_count": null,
   "id": "89f8d1d4",
   "metadata": {},
   "outputs": [],
   "source": []
  },
  {
   "cell_type": "code",
   "execution_count": null,
   "id": "eceb129c",
   "metadata": {},
   "outputs": [],
   "source": []
  },
  {
   "cell_type": "code",
   "execution_count": null,
   "id": "2ec86891",
   "metadata": {},
   "outputs": [],
   "source": []
  },
  {
   "cell_type": "code",
   "execution_count": null,
   "id": "29a67235",
   "metadata": {},
   "outputs": [],
   "source": []
  },
  {
   "cell_type": "code",
   "execution_count": null,
   "id": "a842e404",
   "metadata": {},
   "outputs": [],
   "source": []
  },
  {
   "cell_type": "code",
   "execution_count": null,
   "id": "4d0b7422",
   "metadata": {},
   "outputs": [],
   "source": []
  },
  {
   "cell_type": "code",
   "execution_count": null,
   "id": "d82828cd",
   "metadata": {},
   "outputs": [],
   "source": []
  },
  {
   "cell_type": "code",
   "execution_count": null,
   "id": "034dfc91",
   "metadata": {},
   "outputs": [],
   "source": []
  },
  {
   "cell_type": "code",
   "execution_count": null,
   "id": "81bbe968",
   "metadata": {},
   "outputs": [],
   "source": []
  },
  {
   "cell_type": "code",
   "execution_count": null,
   "id": "dfa24c0b",
   "metadata": {},
   "outputs": [],
   "source": []
  },
  {
   "cell_type": "code",
   "execution_count": null,
   "id": "cad50024",
   "metadata": {},
   "outputs": [],
   "source": []
  },
  {
   "cell_type": "code",
   "execution_count": null,
   "id": "6f6d6f16",
   "metadata": {},
   "outputs": [],
   "source": []
  },
  {
   "cell_type": "code",
   "execution_count": null,
   "id": "ac96bb53",
   "metadata": {},
   "outputs": [],
   "source": []
  },
  {
   "cell_type": "code",
   "execution_count": null,
   "id": "b2696981",
   "metadata": {},
   "outputs": [],
   "source": []
  }
 ],
 "metadata": {
  "kernelspec": {
   "display_name": "Python 3 (ipykernel)",
   "language": "python",
   "name": "python3"
  },
  "language_info": {
   "codemirror_mode": {
    "name": "ipython",
    "version": 3
   },
   "file_extension": ".py",
   "mimetype": "text/x-python",
   "name": "python",
   "nbconvert_exporter": "python",
   "pygments_lexer": "ipython3",
   "version": "3.9.7"
  }
 },
 "nbformat": 4,
 "nbformat_minor": 5
}
