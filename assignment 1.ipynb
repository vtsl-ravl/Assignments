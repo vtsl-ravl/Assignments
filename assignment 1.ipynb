{
 "cells": [
  {
   "cell_type": "code",
   "execution_count": null,
   "id": "ab348da1",
   "metadata": {},
   "outputs": [],
   "source": [
    "1. In the below elements which of them are values or an expression? eg:- values can be integer or string and expressions will be mathematical operators.\n",
    "* \n",
    "'hello'- value\n",
    "-87.8- value\n",
    "- :- expression\n",
    "/  :- :- expression\n",
    "+ :- expression\n",
    "6 :-  value\n"
   ]
  },
  {
   "cell_type": "code",
   "execution_count": null,
   "id": "a6712e02",
   "metadata": {},
   "outputs": [],
   "source": [
    "2. What is the difference between string and variable?\n",
    "\n",
    "string :- string is immutable and it is a value included between quotes or doube quotes.\n",
    "variable :- variable is location where any value can be assigned to it and it can be changed, python will consider the last value assigned to a variable. \n",
    "    "
   ]
  },
  {
   "cell_type": "code",
   "execution_count": null,
   "id": "9b05afe9",
   "metadata": {},
   "outputs": [],
   "source": [
    "3. Describe three different data types.\n",
    "\n",
    "string :-  string is immutable and it is a value included between quotes or doube quotes.\n",
    "integer :- integer is any whole number for eg 1, 2, 3, 4. 3.14 will not be considered integer. \n",
    "float :- float is any real number wiith decimal point. eg 3.14, 2.4, 6.5, etc. \n",
    "Boolean :- Boolean is a data type where there are only 2 possible outcomes. eg true or false, 0 or 1. true=1, false = 0."
   ]
  },
  {
   "cell_type": "code",
   "execution_count": null,
   "id": "72d1c4de",
   "metadata": {},
   "outputs": [],
   "source": [
    "4. What is an expression made up of? What do all expressions do?\n",
    "\n",
    "expression is a symbol using which any mathematical operation can be carried out. It is made up of a pre defined function that python will process when used.\n",
    "Expressions carry out a pre defined calculation/function when used. "
   ]
  },
  {
   "cell_type": "code",
   "execution_count": null,
   "id": "6df23115",
   "metadata": {},
   "outputs": [],
   "source": [
    "5. This assignment statements, like spam = 10. What is the difference between an expression and a statement?\n",
    "\n",
    "expression are  symbol using which any mathematical operation can be carried out. It is made up of a pre defined function that python will process when used.\n",
    "Expressions carry out a pre defined calculation/function when used. \n",
    "\n",
    "While a statement is the instruction or code given to python to carry out. It can include multiiple expressions in it. "
   ]
  },
  {
   "cell_type": "code",
   "execution_count": null,
   "id": "ef038367",
   "metadata": {},
   "outputs": [],
   "source": [
    "6. After running the following code, what does the variable bacon contain?\n",
    "bacon = 22\n",
    "bacon + 1\n",
    "\n",
    "when running the above code we get. \n",
    "bacon = 23."
   ]
  },
  {
   "cell_type": "code",
   "execution_count": null,
   "id": "4b81f77e",
   "metadata": {},
   "outputs": [],
   "source": [
    ".7. What should the values of the following two terms be?\n",
    "\n",
    "'spam' + 'spamspam' = 'spamspamspam'\n",
    "'spam' * 3 = 'spamspamspam'\n"
   ]
  },
  {
   "cell_type": "code",
   "execution_count": null,
   "id": "1e15c4b0",
   "metadata": {},
   "outputs": [],
   "source": [
    "8. Why is eggs a valid variable name while 100 is invalid?\n",
    "\n",
    "eggs starts with a letter, a variable should always start with a letter or underscore. \n",
    "100 does not start with a letter, hence it cannot be named as variable as it has its own value. "
   ]
  },
  {
   "cell_type": "code",
   "execution_count": null,
   "id": "754776b9",
   "metadata": {},
   "outputs": [],
   "source": [
    "9. What three functions can be used to get the integer, floating-point number, or string version of a value?\n",
    "\n",
    "to change any variable to float use float()\n",
    "to change any variable to string use str()\n",
    "to change any variable to integer use int()\n",
    "\n",
    "eg if a = 10,\n",
    "float(a) will change the data type to float. "
   ]
  },
  {
   "cell_type": "code",
   "execution_count": null,
   "id": "a7894860",
   "metadata": {},
   "outputs": [],
   "source": [
    "10. Why does this expression cause an error? How can you fix it?\n",
    "'I have eaten ' + 99 + ' burritos.'\n",
    "\n",
    "The above code will give an error because an integer data type can not be concatenated with a string. The correct way to write it would be as below. \n",
    "\n",
    "'I have eaten ' + '99 ' + ' burritos.'"
   ]
  },
  {
   "cell_type": "code",
   "execution_count": null,
   "id": "1417311b",
   "metadata": {},
   "outputs": [],
   "source": []
  },
  {
   "cell_type": "code",
   "execution_count": null,
   "id": "5480b0a1",
   "metadata": {},
   "outputs": [],
   "source": []
  },
  {
   "cell_type": "code",
   "execution_count": null,
   "id": "414dd48c",
   "metadata": {},
   "outputs": [],
   "source": []
  },
  {
   "cell_type": "code",
   "execution_count": null,
   "id": "7cc61217",
   "metadata": {},
   "outputs": [],
   "source": []
  },
  {
   "cell_type": "code",
   "execution_count": null,
   "id": "a045d290",
   "metadata": {},
   "outputs": [],
   "source": []
  },
  {
   "cell_type": "code",
   "execution_count": null,
   "id": "33c1241e",
   "metadata": {},
   "outputs": [],
   "source": []
  },
  {
   "cell_type": "code",
   "execution_count": null,
   "id": "3f7fec29",
   "metadata": {},
   "outputs": [],
   "source": []
  },
  {
   "cell_type": "code",
   "execution_count": null,
   "id": "c767fec8",
   "metadata": {},
   "outputs": [],
   "source": []
  },
  {
   "cell_type": "code",
   "execution_count": null,
   "id": "ac6a5dbc",
   "metadata": {},
   "outputs": [],
   "source": []
  },
  {
   "cell_type": "code",
   "execution_count": null,
   "id": "4eedaeab",
   "metadata": {},
   "outputs": [],
   "source": []
  }
 ],
 "metadata": {
  "kernelspec": {
   "display_name": "Python 3 (ipykernel)",
   "language": "python",
   "name": "python3"
  },
  "language_info": {
   "codemirror_mode": {
    "name": "ipython",
    "version": 3
   },
   "file_extension": ".py",
   "mimetype": "text/x-python",
   "name": "python",
   "nbconvert_exporter": "python",
   "pygments_lexer": "ipython3",
   "version": "3.9.7"
  }
 },
 "nbformat": 4,
 "nbformat_minor": 5
}
