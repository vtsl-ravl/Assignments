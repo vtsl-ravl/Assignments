{
 "cells": [
  {
   "cell_type": "code",
   "execution_count": 6,
   "id": "8d99ab13",
   "metadata": {},
   "outputs": [],
   "source": [
    "#1. Write a Python Program to find sum of array?\n",
    "\n",
    "def sum_(ar):\n",
    "    a = 0\n",
    "    for i in ar:\n",
    "        a = a+i\n",
    "    return a\n",
    "    "
   ]
  },
  {
   "cell_type": "code",
   "execution_count": 9,
   "id": "760d6cd6",
   "metadata": {},
   "outputs": [],
   "source": [
    "#2. Write a Python Program to find largest element in an array?\n",
    "\n",
    "def large(ar):\n",
    "    a = 0\n",
    "    for i in ar:\n",
    "        if i > a:\n",
    "            a = i\n",
    "    return a\n",
    "        "
   ]
  },
  {
   "cell_type": "code",
   "execution_count": 24,
   "id": "a9e327a0",
   "metadata": {},
   "outputs": [],
   "source": [
    "#3. Write a Python Program for array rotation?\n",
    "\n",
    "def rotatearr(arr, d):\n",
    "    n = len(arr)\n",
    "    i = 0 \n",
    "    temp= []\n",
    "    while i < d:\n",
    "        temp.append(arr[i])\n",
    "        i = i+1\n",
    "    for elements in temp:\n",
    "        if elements in arr:\n",
    "            arr.remove(elements)\n",
    "    for j in temp:\n",
    "        arr.append(j)\n",
    "    return arr\n",
    "   "
   ]
  },
  {
   "cell_type": "code",
   "execution_count": 28,
   "id": "d5dc2b24",
   "metadata": {},
   "outputs": [
    {
     "data": {
      "text/plain": [
       "[9, 1, 2, 3, 4, 5, 6, 7, 8]"
      ]
     },
     "execution_count": 28,
     "metadata": {},
     "output_type": "execute_result"
    }
   ],
   "source": [
    "#4. Write a Python Program to Split the array and add the first part to the end?\n",
    "\n",
    "def splitarr(arr, d):\n",
    "    n = len(arr)\n",
    "    i = 0 \n",
    "    temp= []\n",
    "    while i < d:\n",
    "        temp.append(arr[i])\n",
    "        i = i+1\n",
    "    for elements in temp:\n",
    "        if elements in arr:\n",
    "            arr.remove(elements)\n",
    "    for j in temp:\n",
    "        arr.append(j)\n",
    "    return arr"
   ]
  },
  {
   "cell_type": "code",
   "execution_count": 55,
   "id": "db6006df",
   "metadata": {},
   "outputs": [],
   "source": [
    "#5. Write a Python Program to check if given array is Monotonic?\n",
    "arr = [1,2,3,4,5,6,7,8]\n",
    "def ismonotonic(arr):\n",
    "    a = ((all (arr[i] <= arr[i+1] for i in range(len(arr)-1))) or (all (arr[i] >=arr[i+1] for i in range(len(arr)-1))))\n",
    "    if a == True:\n",
    "        print(arr, 'is monotonic')\n",
    "    else :\n",
    "        print(arr, 'is not monotonic')"
   ]
  },
  {
   "cell_type": "code",
   "execution_count": 56,
   "id": "25c161a7",
   "metadata": {},
   "outputs": [
    {
     "name": "stdout",
     "output_type": "stream",
     "text": [
      "[1, 2, 3, 4, 5, 6, 7, 8] is monotonic\n"
     ]
    }
   ],
   "source": [
    "ismonotonic(arr)"
   ]
  }
 ],
 "metadata": {
  "kernelspec": {
   "display_name": "Python 3 (ipykernel)",
   "language": "python",
   "name": "python3"
  },
  "language_info": {
   "codemirror_mode": {
    "name": "ipython",
    "version": 3
   },
   "file_extension": ".py",
   "mimetype": "text/x-python",
   "name": "python",
   "nbconvert_exporter": "python",
   "pygments_lexer": "ipython3",
   "version": "3.9.7"
  }
 },
 "nbformat": 4,
 "nbformat_minor": 5
}
