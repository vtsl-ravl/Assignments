{
 "cells": [
  {
   "cell_type": "code",
   "execution_count": null,
   "id": "db6a3c00",
   "metadata": {},
   "outputs": [],
   "source": [
    "##1. Write a Python Program to Check if a Number is Positive, Negative or Zero?\n",
    "\n",
    "a = float(input('a :- '))\n",
    "\n",
    "if a < 0 :\n",
    "    print ('a is negative')\n",
    "elif a > 0 :\n",
    "    print('a is positive')\n",
    "else :\n",
    "    print ('a is Zero')\n"
   ]
  },
  {
   "cell_type": "code",
   "execution_count": null,
   "id": "0dc614a6",
   "metadata": {},
   "outputs": [],
   "source": [
    "#2. Write a Python Program to Check if a Number is Odd or Even?\n",
    "\n",
    "b = float(input('b :- '))\n",
    "c = b%2\n",
    "\n",
    "if c == 0:\n",
    "    print('a is even')\n",
    "else :\n",
    "    print('a is odd')"
   ]
  },
  {
   "cell_type": "code",
   "execution_count": null,
   "id": "c4f11067",
   "metadata": {},
   "outputs": [],
   "source": [
    "#3. Write a Python Program to Check Leap Year?\n",
    "\n",
    "y = int(input('Input Year:- '))\n",
    "z = y%100\n",
    "if z != 0 :\n",
    "    if y%4 ==0:\n",
    "        print(y,' is a leap year.')\n",
    "    else :\n",
    "        print(y, 'is not a leap year')\n",
    "else:\n",
    "    if y%400 ==0:\n",
    "        print(y,' is a leap year.')\n",
    "    else :\n",
    "        print(y, 'is not a leap year')\n",
    "    \n",
    "\n",
    " "
   ]
  },
  {
   "cell_type": "code",
   "execution_count": null,
   "id": "d8357652",
   "metadata": {},
   "outputs": [],
   "source": [
    "#4. Write a Python Program to Check Prime Number?\n",
    "\n",
    "p = float(input())\n",
    "a = (p-1)\n",
    "b = (p+1)\n",
    "\n",
    "if p == 2 or p ==3:\n",
    "    print(p, 'is a prime number')\n",
    "elif a%6 ==0 or b%6 ==0:\n",
    "    print(p, 'is a prime number')\n",
    "else :\n",
    "    print(p, 'is not a prime number')\n",
    "    \n"
   ]
  },
  {
   "cell_type": "code",
   "execution_count": null,
   "id": "d110f1bd",
   "metadata": {},
   "outputs": [],
   "source": [
    "#5. Write a Python Program to Print all Prime Numbers in an Interval of 1-10000?\n",
    "\n",
    "for i in range(10001):\n",
    "    a = (i-1)\n",
    "    b = (i+1)\n",
    "    if i == 2 or i ==3 :\n",
    "        print(i)\n",
    "    elif (a%6 ==0 or b%6 ==0) and a > 0:\n",
    "        print(i)\n",
    "        \n",
    "    "
   ]
  },
  {
   "cell_type": "code",
   "execution_count": null,
   "id": "f4aa5722",
   "metadata": {},
   "outputs": [],
   "source": []
  }
 ],
 "metadata": {
  "kernelspec": {
   "display_name": "Python 3 (ipykernel)",
   "language": "python",
   "name": "python3"
  },
  "language_info": {
   "codemirror_mode": {
    "name": "ipython",
    "version": 3
   },
   "file_extension": ".py",
   "mimetype": "text/x-python",
   "name": "python",
   "nbconvert_exporter": "python",
   "pygments_lexer": "ipython3",
   "version": "3.9.7"
  }
 },
 "nbformat": 4,
 "nbformat_minor": 5
}
