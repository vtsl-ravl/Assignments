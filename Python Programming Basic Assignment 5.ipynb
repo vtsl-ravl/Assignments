{
 "cells": [
  {
   "cell_type": "code",
   "execution_count": 21,
   "id": "be00f68b",
   "metadata": {},
   "outputs": [],
   "source": [
    "##2. Write a Python Program to Find HCF?\n",
    "'''Formulae to find HCF of 2 given numbers. \n",
    "The lower of the two values should be added in variable a and the higher value in variable b'''\n",
    "def HCF(a,b):\n",
    "    \n",
    "    l = []\n",
    "    for i in range (1,a+1):\n",
    "        if a%i ==0 and b%i == 0:\n",
    "            l.append(i)\n",
    "    return max(l)\n"
   ]
  },
  {
   "cell_type": "code",
   "execution_count": 22,
   "id": "eb2c2f3f",
   "metadata": {},
   "outputs": [],
   "source": [
    "##1. Write a Python Program to Find LCM?\n",
    "\n",
    "def LCM(a,b):\n",
    "    c = HCF(a,b)\n",
    "    lcm = a*b/c\n",
    "    return lcm"
   ]
  },
  {
   "cell_type": "code",
   "execution_count": 2,
   "id": "81e7d6d4",
   "metadata": {},
   "outputs": [
    {
     "name": "stdout",
     "output_type": "stream",
     "text": [
      "45\n",
      "101101\n"
     ]
    }
   ],
   "source": [
    "##3. Write a Python Program to Convert Decimal to Binary, Octal and Hexadecimal?\n",
    "# Decimal to Binary\n",
    "\n",
    "n = int(input())\n",
    "i = 0\n",
    "d = []\n",
    "l = []\n",
    "while n !=0:\n",
    "    d.append(n%2)\n",
    "    i = i+1\n",
    "    n = n//2\n",
    "\n",
    "d = d[::-1]\n",
    "for j in range(len(d)):\n",
    "    l.append(str(d[j]))\n",
    "a = ''.join(l)\n",
    "b = int(a)\n",
    "print(b)\n"
   ]
  },
  {
   "cell_type": "code",
   "execution_count": 1,
   "id": "dba32edc",
   "metadata": {},
   "outputs": [
    {
     "name": "stdout",
     "output_type": "stream",
     "text": [
      "45\n",
      "55\n"
     ]
    }
   ],
   "source": [
    "# Decimal to Octal\n",
    "\n",
    "n = int(input())\n",
    "i = 0\n",
    "d = []\n",
    "l = []\n",
    "while n !=0:\n",
    "    d.append(n%8)\n",
    "    i = i+1\n",
    "    n = n//8\n",
    "\n",
    "d = d[::-1]\n",
    "for j in range(len(d)):\n",
    "    l.append(str(d[j]))\n",
    "a = ''.join(l)\n",
    "b = int(a)\n",
    "print(b)\n"
   ]
  },
  {
   "cell_type": "code",
   "execution_count": 27,
   "id": "a9b2d7db",
   "metadata": {},
   "outputs": [
    {
     "name": "stdout",
     "output_type": "stream",
     "text": [
      "590\n",
      "24E\n"
     ]
    }
   ],
   "source": [
    "# Decimal to Hexadecimal\n",
    "\n",
    "n = int(input())\n",
    "i = 0\n",
    "d = []\n",
    "l = []\n",
    "while n !=0:\n",
    "    if (n%16) >= 10 and (n%16) < 16:\n",
    "        if (n %16) == 10:\n",
    "            d.append('A')\n",
    "        elif (n %16) == 11:\n",
    "            d.append('B')\n",
    "        elif (n %16) == 12:\n",
    "            d.append('C')\n",
    "        elif (n %16) == 13:\n",
    "            d.append('D')\n",
    "        elif (n %16) == 14:\n",
    "            d.append('E')\n",
    "        else:\n",
    "            d.append('F')\n",
    "    else:\n",
    "        d.append(n%16)\n",
    "    i = i+1\n",
    "    n = n//16\n",
    "\n",
    "d = d[::-1]\n",
    "for j in range(len(d)):\n",
    "    l.append(str(d[j]))\n",
    "a = ''.join(l)\n",
    "print(a)\n"
   ]
  },
  {
   "cell_type": "code",
   "execution_count": 31,
   "id": "480832a8",
   "metadata": {},
   "outputs": [
    {
     "name": "stdout",
     "output_type": "stream",
     "text": [
      "the ASCII value of a is 97\n"
     ]
    }
   ],
   "source": [
    "#4. Write a Python Program To Find ASCII value of a character?\n",
    "\n",
    "c = 'a'\n",
    "print('the ASCII value of', c, 'is', ord(c))"
   ]
  },
  {
   "cell_type": "code",
   "execution_count": 53,
   "id": "d4f9ea87",
   "metadata": {},
   "outputs": [
    {
     "name": "stdout",
     "output_type": "stream",
     "text": [
      "Enter 1st Variable10\n",
      "Enter 2nd Variable50\n",
      " enter 1 to add a and b \n",
      " enter 2 to subtract b from a \n",
      " enter 3 to multiply a and b \n",
      " enter 4 to divide a by b6\n",
      "incorrect operator selected, please select any number between 1 and 4\n"
     ]
    }
   ],
   "source": [
    "#5. Write a Python Program to Make a Simple Calculator with 4 basic mathematical operations?\n",
    "\n",
    "a = float(input('Enter 1st Variable'))\n",
    "b = float(input('Enter 2nd Variable'))\n",
    "op= int(input(' enter 1 to add a and b \\n enter 2 to subtract b from a \\n enter 3 to multiply a and b \\n enter 4 to divide a by b'))\n",
    "\n",
    "if op in range(1,5):\n",
    "    if op == 1:\n",
    "        print (a+b)\n",
    "    elif op ==2:\n",
    "        print(a-b) \n",
    "    elif op == 3:\n",
    "        print(a*b)\n",
    "    elif op == 4:\n",
    "        print(a/b)\n",
    "else :\n",
    "    print('incorrect operator selected, please select any number between 1 and 4')\n",
    "\n"
   ]
  }
 ],
 "metadata": {
  "kernelspec": {
   "display_name": "Python 3 (ipykernel)",
   "language": "python",
   "name": "python3"
  },
  "language_info": {
   "codemirror_mode": {
    "name": "ipython",
    "version": 3
   },
   "file_extension": ".py",
   "mimetype": "text/x-python",
   "name": "python",
   "nbconvert_exporter": "python",
   "pygments_lexer": "ipython3",
   "version": "3.9.7"
  }
 },
 "nbformat": 4,
 "nbformat_minor": 5
}
